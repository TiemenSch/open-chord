{
 "cells": [
  {
   "cell_type": "code",
   "execution_count": 1,
   "id": "4764c3be",
   "metadata": {},
   "outputs": [],
   "source": [
    "# No need to run this if you installed OpenChord via pip\n",
    "import sys\n",
    "sys.path.insert(1, \"..\\src\")"
   ]
  },
  {
   "cell_type": "markdown",
   "id": "735934c6",
   "metadata": {},
   "source": [
    "# 02 The Logo\n",
    "This notebook demonstartes how to use the OpenChord library to draw the OpenChord logo. The OpenChord repository is available at https://github.com/pke1029/open-chord.\n",
    "\n",
    "## Table of Contents\n",
    "* [Rotation](#rotation)\n",
    "* [Custom plot area](#custom_plot_area)\n",
    "* [Gradient style](#gradient_style)\n",
    "* [Arc thickness](#arc_thickness)\n",
    "* [Text position](#text_position)\n",
    "* [Ribbon gap](#ribbon_gap)\n",
    "* [Ribbon stiffness](#ribbon_stiffness)\n",
    "* [Save as SVG](#save_as_svg)"
   ]
  },
  {
   "cell_type": "code",
   "execution_count": 2,
   "id": "bbc3f49b",
   "metadata": {},
   "outputs": [
    {
     "name": "stdout",
     "output_type": "stream",
     "text": [
      "OpenChord version: 0.1.7\n"
     ]
    }
   ],
   "source": [
    "import numpy as np\n",
    "# import openchord and check version number\n",
    "import openchord as ocd\n",
    "print(\"OpenChord version:\", ocd.__version__)"
   ]
  },
  {
   "cell_type": "code",
   "execution_count": 3,
   "id": "e3f5d579",
   "metadata": {},
   "outputs": [
    {
     "data": {
      "image/svg+xml": [
       "<?xml version=\"1.0\" encoding=\"UTF-8\"?>\n",
       "<svg xmlns=\"http://www.w3.org/2000/svg\" xmlns:xlink=\"http://www.w3.org/1999/xlink\"\n",
       "     width=\"500.0\" height=\"500.0\" viewBox=\"-250 -250 500.0 500.0\">\n",
       "<defs>\n",
       "<linearGradient x1=\"200.0\" y1=\"-0.0\" x2=\"199.99000008333306\" y2=\"1.9999666668333391\" gradientUnits=\"userSpaceOnUse\" id=\"dw0R3uI10\">\n",
       "<stop offset=\"0\" stop-color=\"#FFB6C1\" />\n",
       "<stop offset=\"1\" stop-color=\"#FFD700\" />\n",
       "</linearGradient>\n",
       "</defs>\n",
       "<rect x=\"-250\" y=\"-250\" width=\"500.0\" height=\"500.0\" fill=\"#ffffff\" fill-opacity=\"1.0\" />\n",
       "<path d=\"M200.0,-0.0 A200,200,0,0,0,62.56374763257491,-189.96256863436935 L66.94320996685515,-203.2599484387752 A214.0,214.0,0,0,1,214.0,-0.0 Z\" fill=\"#FFB6C1\" fill-opacity=\"0.9\" />\n",
       "<path d=\"M60.66102544518753,-190.57869763417503 A200,200,0,1,0,199.99000008333306,1.9999666668333391 L213.9893000891664,2.139964333511673 A214.0,214.0,0,1,1,64.90729722635066,-203.9192064685673 Z\" fill=\"#FFD700\" fill-opacity=\"0.9\" />\n",
       "<path d=\"M198.0,-0.0 A198.0,198.0,0,0,0,61.93811015624916,-188.06294294802564 C24.775244062499667,-75.22517717921026,24.021766076294266,-75.46916426313332,60.05441519073566,-188.67291065783328 A198.0,198.0,0,1,0,197.9901000824997,1.9799670001650058 C79.19604003299989,0.7919868000660024,79.2,-0.0,198.0,-0.0 Z\" fill=\"url(#dw0R3uI10)\" fill-opacity=\"0.6\" />\n",
       "<text x=\"220.00000000000003\" y=\"0\" font-size=\"10\" text-anchor=\"start\" dominant-baseline=\"middle\" transform=\"rotate(-35.885408)\" font-family=\"Arial\">OpenChord</text>\n",
       "</svg>"
      ],
      "text/plain": [
       "<drawsvg.drawing.Drawing at 0x26fbf644a00>"
      ]
     },
     "execution_count": 3,
     "metadata": {},
     "output_type": "execute_result"
    }
   ],
   "source": [
    "# We start by creating a 20:80 split chord diagram \n",
    "adjacency_matrix = [[ 0,  1],\n",
    "                    [ 4,  0]]\n",
    "labels = ['OpenChord']\n",
    "\n",
    "fig = ocd.Chord(adjacency_matrix, labels)\n",
    "fig.show()"
   ]
  },
  {
   "cell_type": "code",
   "execution_count": 4,
   "id": "08f8a7ab",
   "metadata": {},
   "outputs": [
    {
     "data": {
      "image/svg+xml": [
       "<?xml version=\"1.0\" encoding=\"UTF-8\"?>\n",
       "<svg xmlns=\"http://www.w3.org/2000/svg\" xmlns:xlink=\"http://www.w3.org/1999/xlink\"\n",
       "     width=\"200.0\" height=\"200.0\" viewBox=\"-100 -100 200.0 200.0\">\n",
       "<defs>\n",
       "<linearGradient x1=\"20.808115836000322\" y1=\"-56.27630331991959\" x2=\"15.085906291727152\" y2=\"-58.07250150766046\" gradientUnits=\"userSpaceOnUse\" id=\"QqdOaDuX0\">\n",
       "<stop offset=\"0\" stop-color=\"#FFB6C1\" />\n",
       "<stop offset=\"1\" stop-color=\"#FFD700\" />\n",
       "</linearGradient>\n",
       "</defs>\n",
       "<rect x=\"-100\" y=\"-100\" width=\"200.0\" height=\"200.0\" fill=\"#ffffff\" fill-opacity=\"1.0\" />\n",
       "<path d=\"M60.0,-0.0 A60,60,0,0,0,20.808115836000322,-56.27630331991959 L22.264683944520346,-60.21564455231397 A64.2,64.2,0,0,1,64.2,-0.0 Z\" fill=\"#FFB6C1\" fill-opacity=\"0.9\" />\n",
       "<path d=\"M15.085906291727152,-58.07250150766046 A60,60,0,1,0,59.70024991668155,5.990004998809683 L63.87926741084926,6.409305348726361 A64.2,64.2,0,1,1,16.141919732148054,-62.1375766131967 Z\" fill=\"#FFD700\" fill-opacity=\"0.9\" />\n",
       "<path d=\"M59.4,-0.0 A59.4,59.4,0,0,0,20.600034677640316,-55.713540286720395 C8.240013871056126,-22.28541611468816,5.9740188915239525,-22.996710597033545,14.93504722880988,-57.49177649258386 A59.4,59.4,0,1,0,59.10324741751473,5.930104948821586 C23.641298967005895,2.3720419795286345,23.76,-0.0,59.4,-0.0 Z\" fill=\"url(#QqdOaDuX0)\" fill-opacity=\"0.6\" />\n",
       "<text x=\"66.0\" y=\"0\" font-size=\"100\" text-anchor=\"start\" dominant-baseline=\"middle\" transform=\"rotate(-34.854084)\" font-family=\"Arial\">OpenChord</text>\n",
       "</svg>"
      ],
      "text/plain": [
       "<drawsvg.drawing.Drawing at 0x26fbf647250>"
      ]
     },
     "execution_count": 4,
     "metadata": {},
     "output_type": "execute_result"
    }
   ],
   "source": [
    "# set the size of the logo \n",
    "fig.radius = 60\n",
    "fig.padding = 40\n",
    "fig.gap_size = 0.1\n",
    "fig.font_size = 100\n",
    "fig.show()"
   ]
  },
  {
   "cell_type": "markdown",
   "id": "eb436554",
   "metadata": {},
   "source": [
    "#### Rotation <a class=\"anchor\" id=\"rotation\"></a>\n",
    "We can rotate the diagram by changing the `rotate` attribute in radiant unit. "
   ]
  },
  {
   "cell_type": "code",
   "execution_count": 5,
   "id": "b6e3417e",
   "metadata": {},
   "outputs": [
    {
     "data": {
      "image/svg+xml": [
       "<?xml version=\"1.0\" encoding=\"UTF-8\"?>\n",
       "<svg xmlns=\"http://www.w3.org/2000/svg\" xmlns:xlink=\"http://www.w3.org/1999/xlink\"\n",
       "     width=\"200.0\" height=\"200.0\" viewBox=\"-100 -100 200.0 200.0\">\n",
       "<defs>\n",
       "<linearGradient x1=\"49.236607063038065\" y1=\"34.289306276447036\" x2=\"45.56741051185308\" y2=\"39.03346127675921\" gradientUnits=\"userSpaceOnUse\" id=\"OJK8ABdb0\">\n",
       "<stop offset=\"0\" stop-color=\"#FFB6C1\" />\n",
       "<stop offset=\"1\" stop-color=\"#FFD700\" />\n",
       "</linearGradient>\n",
       "</defs>\n",
       "<rect x=\"-100\" y=\"-100\" width=\"200.0\" height=\"200.0\" fill=\"#ffffff\" fill-opacity=\"1.0\" />\n",
       "<path d=\"M49.236607063038065,34.289306276447036 A60,60,0,0,0,49.236607063038065,-34.289306276447036 L52.68316955745073,-36.68955771579833 A64.2,64.2,0,0,1,52.68316955745073,36.68955771579833 Z\" fill=\"#FFB6C1\" fill-opacity=\"0.9\" />\n",
       "<path d=\"M45.567410511853105,-39.03346127675919 A60,60,0,1,0,45.56741051185308,39.03346127675921 L48.757129247682805,41.76580356613236 A64.2,64.2,0,1,1,48.757129247682826,-41.765803566132334 Z\" fill=\"#FFD700\" fill-opacity=\"0.9\" />\n",
       "<path d=\"M48.74424099240768,33.94641321368257 A59.4,59.4,0,0,0,48.74424099240768,-33.94641321368257 C19.497696396963075,-13.578565285473028,18.04469456269383,-15.457250665596641,45.11173640673457,-38.6431266639916 A59.4,59.4,0,1,0,45.11173640673455,38.64312666399162 C18.04469456269382,15.45725066559665,19.497696396963075,13.578565285473028,48.74424099240768,33.94641321368257 Z\" fill=\"url(#OJK8ABdb0)\" fill-opacity=\"0.6\" />\n",
       "<text x=\"66.0\" y=\"0\" font-size=\"100\" text-anchor=\"start\" dominant-baseline=\"middle\" transform=\"rotate(-0.000000)\" font-family=\"Arial\">OpenChord</text>\n",
       "</svg>"
      ],
      "text/plain": [
       "<drawsvg.drawing.Drawing at 0x26fbf6478e0>"
      ]
     },
     "execution_count": 5,
     "metadata": {},
     "output_type": "execute_result"
    }
   ],
   "source": [
    "fig.rotation = -0.5*fig.conversion_rate    # conversion_rate converts the weights to arc length\n",
    "fig.show()"
   ]
  },
  {
   "cell_type": "markdown",
   "id": "76e63a33",
   "metadata": {},
   "source": [
    "#### Custom plot area <a class=\"anchor\" id=\"custom_plot_area\"></a>\n",
    "We can specify a custom plot area by passing in a dictionary of the (x,y)-coordinates, width, and hight, notting that the center of the chord diagram is located at coordinate (0,0). Also note that changing the `radius` and `padding` will reset the plot area."
   ]
  },
  {
   "cell_type": "code",
   "execution_count": 6,
   "id": "6c2e68f9",
   "metadata": {},
   "outputs": [
    {
     "data": {
      "image/svg+xml": [
       "<?xml version=\"1.0\" encoding=\"UTF-8\"?>\n",
       "<svg xmlns=\"http://www.w3.org/2000/svg\" xmlns:xlink=\"http://www.w3.org/1999/xlink\"\n",
       "     width=\"720\" height=\"200\" viewBox=\"-100 -100 720 200\">\n",
       "<defs>\n",
       "<linearGradient x1=\"49.236607063038065\" y1=\"34.289306276447036\" x2=\"45.56741051185308\" y2=\"39.03346127675921\" gradientUnits=\"userSpaceOnUse\" id=\"VnuIzWUn0\">\n",
       "<stop offset=\"0\" stop-color=\"#FFB6C1\" />\n",
       "<stop offset=\"1\" stop-color=\"#FFD700\" />\n",
       "</linearGradient>\n",
       "</defs>\n",
       "<rect x=\"-100\" y=\"-100\" width=\"720\" height=\"200\" fill=\"#ffffff\" fill-opacity=\"1.0\" />\n",
       "<path d=\"M49.236607063038065,34.289306276447036 A60,60,0,0,0,49.236607063038065,-34.289306276447036 L52.68316955745073,-36.68955771579833 A64.2,64.2,0,0,1,52.68316955745073,36.68955771579833 Z\" fill=\"#FFB6C1\" fill-opacity=\"0.9\" />\n",
       "<path d=\"M45.567410511853105,-39.03346127675919 A60,60,0,1,0,45.56741051185308,39.03346127675921 L48.757129247682805,41.76580356613236 A64.2,64.2,0,1,1,48.757129247682826,-41.765803566132334 Z\" fill=\"#FFD700\" fill-opacity=\"0.9\" />\n",
       "<path d=\"M48.74424099240768,33.94641321368257 A59.4,59.4,0,0,0,48.74424099240768,-33.94641321368257 C19.497696396963075,-13.578565285473028,18.04469456269383,-15.457250665596641,45.11173640673457,-38.6431266639916 A59.4,59.4,0,1,0,45.11173640673455,38.64312666399162 C18.04469456269382,15.45725066559665,19.497696396963075,13.578565285473028,48.74424099240768,33.94641321368257 Z\" fill=\"url(#VnuIzWUn0)\" fill-opacity=\"0.6\" />\n",
       "<text x=\"66.0\" y=\"0\" font-size=\"100\" text-anchor=\"start\" dominant-baseline=\"middle\" transform=\"rotate(-0.000000)\" font-family=\"Arial\">OpenChord</text>\n",
       "</svg>"
      ],
      "text/plain": [
       "<drawsvg.drawing.Drawing at 0x26fbf632fe0>"
      ]
     },
     "execution_count": 6,
     "metadata": {},
     "output_type": "execute_result"
    }
   ],
   "source": [
    "fig.plot_area = {\"x\": -100, \"y\": -100, \"w\": 720, \"h\": 200}\n",
    "fig.show()"
   ]
  },
  {
   "cell_type": "markdown",
   "id": "9d2c3b02",
   "metadata": {},
   "source": [
    "#### Gradient style <a class=\"anchor\" id=\"gradient_style\"></a>\n",
    "The `\"default\"` gradient style generate gradients based on the edges of the ribbons and works well in most cases. But it doesn't look really good with this particular chord diagram, so we will use the `\"midpoint\"` gradient style instead where the gradient is computed based on the mid point of the arc. "
   ]
  },
  {
   "cell_type": "code",
   "execution_count": 7,
   "id": "803e0b5a",
   "metadata": {},
   "outputs": [
    {
     "data": {
      "image/svg+xml": [
       "<?xml version=\"1.0\" encoding=\"UTF-8\"?>\n",
       "<svg xmlns=\"http://www.w3.org/2000/svg\" xmlns:xlink=\"http://www.w3.org/1999/xlink\"\n",
       "     width=\"720\" height=\"200\" viewBox=\"-100 -100 720 200\">\n",
       "<defs>\n",
       "<linearGradient x1=\"60.0\" y1=\"-0.0\" x2=\"-60.0\" y2=\"-7.34788079488412e-15\" gradientUnits=\"userSpaceOnUse\" id=\"FTckTqpb0\">\n",
       "<stop offset=\"0\" stop-color=\"#FFB6C1\" />\n",
       "<stop offset=\"1\" stop-color=\"#FFD700\" />\n",
       "</linearGradient>\n",
       "</defs>\n",
       "<rect x=\"-100\" y=\"-100\" width=\"720\" height=\"200\" fill=\"#ffffff\" fill-opacity=\"1.0\" />\n",
       "<path d=\"M49.236607063038065,34.289306276447036 A60,60,0,0,0,49.236607063038065,-34.289306276447036 L52.68316955745073,-36.68955771579833 A64.2,64.2,0,0,1,52.68316955745073,36.68955771579833 Z\" fill=\"#FFB6C1\" fill-opacity=\"0.9\" />\n",
       "<path d=\"M45.567410511853105,-39.03346127675919 A60,60,0,1,0,45.56741051185308,39.03346127675921 L48.757129247682805,41.76580356613236 A64.2,64.2,0,1,1,48.757129247682826,-41.765803566132334 Z\" fill=\"#FFD700\" fill-opacity=\"0.9\" />\n",
       "<path d=\"M48.74424099240768,33.94641321368257 A59.4,59.4,0,0,0,48.74424099240768,-33.94641321368257 C19.497696396963075,-13.578565285473028,18.04469456269383,-15.457250665596641,45.11173640673457,-38.6431266639916 A59.4,59.4,0,1,0,45.11173640673455,38.64312666399162 C18.04469456269382,15.45725066559665,19.497696396963075,13.578565285473028,48.74424099240768,33.94641321368257 Z\" fill=\"url(#FTckTqpb0)\" fill-opacity=\"0.6\" />\n",
       "<text x=\"66.0\" y=\"0\" font-size=\"100\" text-anchor=\"start\" dominant-baseline=\"middle\" transform=\"rotate(-0.000000)\" font-family=\"Arial\">OpenChord</text>\n",
       "</svg>"
      ],
      "text/plain": [
       "<drawsvg.drawing.Drawing at 0x26fbf6338b0>"
      ]
     },
     "execution_count": 7,
     "metadata": {},
     "output_type": "execute_result"
    }
   ],
   "source": [
    "fig.gradient_style = \"midpoint\"\n",
    "fig.show()"
   ]
  },
  {
   "cell_type": "markdown",
   "id": "e1d07e49",
   "metadata": {},
   "source": [
    "#### Arc thickness <a class=\"anchor\" id=\"arc_thickness\"></a>\n",
    "Arc thickness is specified as a proportion of the radius. Default thickness is 0.07."
   ]
  },
  {
   "cell_type": "code",
   "execution_count": 8,
   "id": "bad79535",
   "metadata": {},
   "outputs": [
    {
     "data": {
      "image/svg+xml": [
       "<?xml version=\"1.0\" encoding=\"UTF-8\"?>\n",
       "<svg xmlns=\"http://www.w3.org/2000/svg\" xmlns:xlink=\"http://www.w3.org/1999/xlink\"\n",
       "     width=\"720\" height=\"200\" viewBox=\"-100 -100 720 200\">\n",
       "<defs>\n",
       "<linearGradient x1=\"60.0\" y1=\"-0.0\" x2=\"-60.0\" y2=\"-7.34788079488412e-15\" gradientUnits=\"userSpaceOnUse\" id=\"GLQ41DnS0\">\n",
       "<stop offset=\"0\" stop-color=\"#FFB6C1\" />\n",
       "<stop offset=\"1\" stop-color=\"#FFD700\" />\n",
       "</linearGradient>\n",
       "</defs>\n",
       "<rect x=\"-100\" y=\"-100\" width=\"720\" height=\"200\" fill=\"#ffffff\" fill-opacity=\"1.0\" />\n",
       "<path d=\"M49.236607063038065,34.289306276447036 A60,60,0,0,0,49.236607063038065,-34.289306276447036 L64.00758918194948,-44.57609815938115 A78.0,78.0,0,0,1,64.00758918194948,44.57609815938115 Z\" fill=\"#FFB6C1\" fill-opacity=\"0.9\" />\n",
       "<path d=\"M45.567410511853105,-39.03346127675919 A60,60,0,1,0,45.56741051185308,39.03346127675921 L59.23763366540901,50.74349965978698 A78.0,78.0,0,1,1,59.237633665409035,-50.74349965978695 Z\" fill=\"#FFD700\" fill-opacity=\"0.9\" />\n",
       "<path d=\"M48.74424099240768,33.94641321368257 A59.4,59.4,0,0,0,48.74424099240768,-33.94641321368257 C19.497696396963075,-13.578565285473028,18.04469456269383,-15.457250665596641,45.11173640673457,-38.6431266639916 A59.4,59.4,0,1,0,45.11173640673455,38.64312666399162 C18.04469456269382,15.45725066559665,19.497696396963075,13.578565285473028,48.74424099240768,33.94641321368257 Z\" fill=\"url(#GLQ41DnS0)\" fill-opacity=\"0.6\" />\n",
       "<text x=\"66.0\" y=\"0\" font-size=\"100\" text-anchor=\"start\" dominant-baseline=\"middle\" transform=\"rotate(-0.000000)\" font-family=\"Arial\">OpenChord</text>\n",
       "</svg>"
      ],
      "text/plain": [
       "<drawsvg.drawing.Drawing at 0x26fbf6320b0>"
      ]
     },
     "execution_count": 8,
     "metadata": {},
     "output_type": "execute_result"
    }
   ],
   "source": [
    "fig.arc_thickness = 0.3\n",
    "fig.show()"
   ]
  },
  {
   "cell_type": "markdown",
   "id": "586811c7",
   "metadata": {},
   "source": [
    "#### Text position <a class=\"anchor\" id=\"text_position\"></a>\n",
    "Similar to the `arc_thickness` attribute, the text position is specified as a proportion of the radius. Default value is 0.1."
   ]
  },
  {
   "cell_type": "code",
   "execution_count": 9,
   "id": "38ae9103",
   "metadata": {},
   "outputs": [
    {
     "data": {
      "image/svg+xml": [
       "<?xml version=\"1.0\" encoding=\"UTF-8\"?>\n",
       "<svg xmlns=\"http://www.w3.org/2000/svg\" xmlns:xlink=\"http://www.w3.org/1999/xlink\"\n",
       "     width=\"720\" height=\"200\" viewBox=\"-100 -100 720 200\">\n",
       "<defs>\n",
       "<linearGradient x1=\"60.0\" y1=\"-0.0\" x2=\"-60.0\" y2=\"-7.34788079488412e-15\" gradientUnits=\"userSpaceOnUse\" id=\"X1Kz23U80\">\n",
       "<stop offset=\"0\" stop-color=\"#FFB6C1\" />\n",
       "<stop offset=\"1\" stop-color=\"#FFD700\" />\n",
       "</linearGradient>\n",
       "</defs>\n",
       "<rect x=\"-100\" y=\"-100\" width=\"720\" height=\"200\" fill=\"#ffffff\" fill-opacity=\"1.0\" />\n",
       "<path d=\"M49.236607063038065,34.289306276447036 A60,60,0,0,0,49.236607063038065,-34.289306276447036 L64.00758918194948,-44.57609815938115 A78.0,78.0,0,0,1,64.00758918194948,44.57609815938115 Z\" fill=\"#FFB6C1\" fill-opacity=\"0.9\" />\n",
       "<path d=\"M45.567410511853105,-39.03346127675919 A60,60,0,1,0,45.56741051185308,39.03346127675921 L59.23763366540901,50.74349965978698 A78.0,78.0,0,1,1,59.237633665409035,-50.74349965978695 Z\" fill=\"#FFD700\" fill-opacity=\"0.9\" />\n",
       "<path d=\"M48.74424099240768,33.94641321368257 A59.4,59.4,0,0,0,48.74424099240768,-33.94641321368257 C19.497696396963075,-13.578565285473028,18.04469456269383,-15.457250665596641,45.11173640673457,-38.6431266639916 A59.4,59.4,0,1,0,45.11173640673455,38.64312666399162 C18.04469456269382,15.45725066559665,19.497696396963075,13.578565285473028,48.74424099240768,33.94641321368257 Z\" fill=\"url(#X1Kz23U80)\" fill-opacity=\"0.6\" />\n",
       "<text x=\"84.0\" y=\"0\" font-size=\"100\" text-anchor=\"start\" dominant-baseline=\"middle\" transform=\"rotate(-0.000000)\" font-family=\"Arial\">OpenChord</text>\n",
       "</svg>"
      ],
      "text/plain": [
       "<drawsvg.drawing.Drawing at 0x26fbf631840>"
      ]
     },
     "execution_count": 9,
     "metadata": {},
     "output_type": "execute_result"
    }
   ],
   "source": [
    "fig.text_position = 0.4\n",
    "fig.show()"
   ]
  },
  {
   "cell_type": "markdown",
   "id": "2e3fb91f",
   "metadata": {},
   "source": [
    "#### Ribbon gap <a class=\"anchor\" id=\"ribbon_gap\"></a>\n",
    "The ribbon gap is also specified as a proportion of the radius. Default thickness is 0.01."
   ]
  },
  {
   "cell_type": "code",
   "execution_count": 10,
   "id": "e3ecef68",
   "metadata": {},
   "outputs": [
    {
     "data": {
      "image/svg+xml": [
       "<?xml version=\"1.0\" encoding=\"UTF-8\"?>\n",
       "<svg xmlns=\"http://www.w3.org/2000/svg\" xmlns:xlink=\"http://www.w3.org/1999/xlink\"\n",
       "     width=\"720\" height=\"200\" viewBox=\"-100 -100 720 200\">\n",
       "<defs>\n",
       "<linearGradient x1=\"60.0\" y1=\"-0.0\" x2=\"-60.0\" y2=\"-7.34788079488412e-15\" gradientUnits=\"userSpaceOnUse\" id=\"v0Kp3oqS0\">\n",
       "<stop offset=\"0\" stop-color=\"#FFB6C1\" />\n",
       "<stop offset=\"1\" stop-color=\"#FFD700\" />\n",
       "</linearGradient>\n",
       "</defs>\n",
       "<rect x=\"-100\" y=\"-100\" width=\"720\" height=\"200\" fill=\"#ffffff\" fill-opacity=\"1.0\" />\n",
       "<path d=\"M49.236607063038065,34.289306276447036 A60,60,0,0,0,49.236607063038065,-34.289306276447036 L64.00758918194948,-44.57609815938115 A78.0,78.0,0,0,1,64.00758918194948,44.57609815938115 Z\" fill=\"#FFB6C1\" fill-opacity=\"0.9\" />\n",
       "<path d=\"M45.567410511853105,-39.03346127675919 A60,60,0,1,0,45.56741051185308,39.03346127675921 L59.23763366540901,50.74349965978698 A78.0,78.0,0,1,1,59.237633665409035,-50.74349965978695 Z\" fill=\"#FFD700\" fill-opacity=\"0.9\" />\n",
       "<path d=\"M47.26714278051654,32.91773402538915 A57.599999999999994,57.599999999999994,0,0,0,47.26714278051654,-32.91773402538915 C18.906857112206616,-13.16709361015566,17.49788563655159,-14.98884913027553,43.744714091378974,-37.47212282568882 A57.599999999999994,57.599999999999994,0,1,0,43.74471409137895,37.47212282568884 C17.497885636551583,14.988849130275538,18.906857112206616,13.16709361015566,47.26714278051654,32.91773402538915 Z\" fill=\"url(#v0Kp3oqS0)\" fill-opacity=\"0.6\" />\n",
       "<text x=\"84.0\" y=\"0\" font-size=\"100\" text-anchor=\"start\" dominant-baseline=\"middle\" transform=\"rotate(-0.000000)\" font-family=\"Arial\">OpenChord</text>\n",
       "</svg>"
      ],
      "text/plain": [
       "<drawsvg.drawing.Drawing at 0x26fbf631c60>"
      ]
     },
     "execution_count": 10,
     "metadata": {},
     "output_type": "execute_result"
    }
   ],
   "source": [
    "fig.ribbon_gap = 0.04\n",
    "fig.show()"
   ]
  },
  {
   "cell_type": "markdown",
   "id": "20c2efab",
   "metadata": {},
   "source": [
    "#### Ribbon stiffness <a class=\"anchor\" id=\"ribbon_stiffness\"></a>\n",
    "The default value for the ribbon stiffness is 0.6."
   ]
  },
  {
   "cell_type": "code",
   "execution_count": 11,
   "id": "05832dea",
   "metadata": {},
   "outputs": [
    {
     "data": {
      "image/svg+xml": [
       "<?xml version=\"1.0\" encoding=\"UTF-8\"?>\n",
       "<svg xmlns=\"http://www.w3.org/2000/svg\" xmlns:xlink=\"http://www.w3.org/1999/xlink\"\n",
       "     width=\"720\" height=\"200\" viewBox=\"-100 -100 720 200\">\n",
       "<defs>\n",
       "<linearGradient x1=\"60.0\" y1=\"-0.0\" x2=\"-60.0\" y2=\"-7.34788079488412e-15\" gradientUnits=\"userSpaceOnUse\" id=\"ivGi7zlZ0\">\n",
       "<stop offset=\"0\" stop-color=\"#FFB6C1\" />\n",
       "<stop offset=\"1\" stop-color=\"#FFD700\" />\n",
       "</linearGradient>\n",
       "</defs>\n",
       "<rect x=\"-100\" y=\"-100\" width=\"720\" height=\"200\" fill=\"#ffffff\" fill-opacity=\"1.0\" />\n",
       "<path d=\"M49.236607063038065,34.289306276447036 A60,60,0,0,0,49.236607063038065,-34.289306276447036 L64.00758918194948,-44.57609815938115 A78.0,78.0,0,0,1,64.00758918194948,44.57609815938115 Z\" fill=\"#FFB6C1\" fill-opacity=\"0.9\" />\n",
       "<path d=\"M45.567410511853105,-39.03346127675919 A60,60,0,1,0,45.56741051185308,39.03346127675921 L59.23763366540901,50.74349965978698 A78.0,78.0,0,1,1,59.237633665409035,-50.74349965978695 Z\" fill=\"#FFD700\" fill-opacity=\"0.9\" />\n",
       "<path d=\"M47.26714278051654,32.91773402538915 A57.599999999999994,57.599999999999994,0,0,0,47.26714278051654,-32.91773402538915 C33.08699994636157,-23.042413817772406,30.62129986396528,-26.230485977982173,43.744714091378974,-37.47212282568882 A57.599999999999994,57.599999999999994,0,1,0,43.74471409137895,37.47212282568884 C30.621299863965266,26.230485977982188,33.08699994636157,23.042413817772406,47.26714278051654,32.91773402538915 Z\" fill=\"url(#ivGi7zlZ0)\" fill-opacity=\"0.6\" />\n",
       "<text x=\"84.0\" y=\"0\" font-size=\"100\" text-anchor=\"start\" dominant-baseline=\"middle\" transform=\"rotate(-0.000000)\" font-family=\"Arial\">OpenChord</text>\n",
       "</svg>"
      ],
      "text/plain": [
       "<drawsvg.drawing.Drawing at 0x26fbf631c30>"
      ]
     },
     "execution_count": 11,
     "metadata": {},
     "output_type": "execute_result"
    }
   ],
   "source": [
    "fig.ribbon_stiffness = 0.3\n",
    "fig.show()"
   ]
  },
  {
   "cell_type": "markdown",
   "id": "0e6cf66e",
   "metadata": {},
   "source": [
    "#### Save as SVG <a class=\"anchor\" id=\"save_as_svg\"></a>\n",
    "Finally, we can save the generated drawing as an SVG file. "
   ]
  },
  {
   "cell_type": "code",
   "execution_count": 12,
   "id": "ffa61da3",
   "metadata": {},
   "outputs": [],
   "source": [
    "# fig.save_svg(\"logo.svg\")"
   ]
  }
 ],
 "metadata": {
  "kernelspec": {
   "display_name": "Python 3 (ipykernel)",
   "language": "python",
   "name": "python3"
  },
  "language_info": {
   "codemirror_mode": {
    "name": "ipython",
    "version": 3
   },
   "file_extension": ".py",
   "mimetype": "text/x-python",
   "name": "python",
   "nbconvert_exporter": "python",
   "pygments_lexer": "ipython3",
   "version": "3.10.6"
  }
 },
 "nbformat": 4,
 "nbformat_minor": 5
}
