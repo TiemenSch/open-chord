{
 "cells": [
  {
   "cell_type": "code",
   "execution_count": 1,
   "id": "4764c3be",
   "metadata": {},
   "outputs": [],
   "source": [
    "# No need to run this if you installed OpenChord via pip\n",
    "import sys\n",
    "sys.path.insert(1, \"..\\src\")"
   ]
  },
  {
   "cell_type": "markdown",
   "id": "735934c6",
   "metadata": {},
   "source": [
    "# 02 The Logo\n",
    "This notebook demonstartes how to use the OpenChord library to draw the OpenChord logo. The OpenChord repository is available at https://github.com/pke1029/open-chord.\n",
    "\n",
    "## Table of Contents\n",
    "* [Rotation](#rotation)\n",
    "* [Custom plot area](#custom_plot_area)\n",
    "* [Gradient style](#gradient_style)\n",
    "* [Arc thickness](#arc_thickness)\n",
    "* [Text position](#text_position)\n",
    "* [Gap size](#gap_size)\n",
    "* [Ribbon gap](#ribbon_gap)\n",
    "* [Ribbon stiffness](#ribbon_stiffness)\n",
    "* [Save as SVG](#save_as_svg)"
   ]
  },
  {
   "cell_type": "code",
   "execution_count": 2,
   "id": "bbc3f49b",
   "metadata": {},
   "outputs": [
    {
     "name": "stdout",
     "output_type": "stream",
     "text": [
      "OpenChord version: 0.1.7\n"
     ]
    }
   ],
   "source": [
    "import numpy as np\n",
    "# import openchord and check version number\n",
    "import openchord as ocd\n",
    "print(\"OpenChord version:\", ocd.__version__)"
   ]
  },
  {
   "cell_type": "code",
   "execution_count": 3,
   "id": "e3f5d579",
   "metadata": {},
   "outputs": [
    {
     "data": {
      "image/svg+xml": [
       "<?xml version=\"1.0\" encoding=\"UTF-8\"?>\n",
       "<svg xmlns=\"http://www.w3.org/2000/svg\" xmlns:xlink=\"http://www.w3.org/1999/xlink\"\n",
       "     width=\"500.0\" height=\"500.0\" viewBox=\"-250 -250 500.0 500.0\">\n",
       "<defs>\n",
       "<linearGradient x1=\"200.0\" y1=\"-0.0\" x2=\"199.99000008333306\" y2=\"1.9999666668333391\" gradientUnits=\"userSpaceOnUse\" id=\"sxXOykzR0\">\n",
       "<stop offset=\"0\" stop-color=\"#FFB6C1\" />\n",
       "<stop offset=\"1\" stop-color=\"#FFD700\" />\n",
       "</linearGradient>\n",
       "</defs>\n",
       "<rect x=\"-250\" y=\"-250\" width=\"500.0\" height=\"500.0\" fill=\"#ffffff\" fill-opacity=\"1.0\" />\n",
       "<path d=\"M200.0,-0.0 A200,200,0,0,0,62.56374763257491,-189.96256863436935 L66.94320996685515,-203.2599484387752 A214.0,214.0,0,0,1,214.0,-0.0 Z\" fill=\"#FFB6C1\" fill-opacity=\"0.9\" />\n",
       "<path d=\"M60.66102544518753,-190.57869763417503 A200,200,0,1,0,199.99000008333306,1.9999666668333391 L213.9893000891664,2.139964333511673 A214.0,214.0,0,1,1,64.90729722635066,-203.9192064685673 Z\" fill=\"#FFD700\" fill-opacity=\"0.9\" />\n",
       "<path d=\"M198.0,-0.0 A198.0,198.0,0,0,0,61.93811015624916,-188.06294294802564 C24.775244062499667,-75.22517717921026,24.021766076294266,-75.46916426313332,60.05441519073566,-188.67291065783328 A198.0,198.0,0,1,0,197.9901000824997,1.9799670001650058 C79.19604003299989,0.7919868000660024,79.2,-0.0,198.0,-0.0 Z\" fill=\"url(#sxXOykzR0)\" fill-opacity=\"0.6\" />\n",
       "<text x=\"220.00000000000003\" y=\"0\" font-size=\"10\" text-anchor=\"start\" dominant-baseline=\"middle\" transform=\"rotate(-35.885408)\" font-family=\"Arial\">OpenChord</text>\n",
       "</svg>"
      ],
      "text/plain": [
       "<drawsvg.drawing.Drawing at 0x20e6a531c90>"
      ]
     },
     "execution_count": 3,
     "metadata": {},
     "output_type": "execute_result"
    }
   ],
   "source": [
    "# We start by creating a 20:80 split chord diagram \n",
    "adjacency_matrix = [[ 0,  1],\n",
    "                    [ 4,  0]]\n",
    "labels = ['OpenChord']\n",
    "\n",
    "fig = ocd.Chord(adjacency_matrix, labels)\n",
    "fig.show()"
   ]
  },
  {
   "cell_type": "code",
   "execution_count": 4,
   "id": "08f8a7ab",
   "metadata": {},
   "outputs": [
    {
     "data": {
      "image/svg+xml": [
       "<?xml version=\"1.0\" encoding=\"UTF-8\"?>\n",
       "<svg xmlns=\"http://www.w3.org/2000/svg\" xmlns:xlink=\"http://www.w3.org/1999/xlink\"\n",
       "     width=\"200.0\" height=\"200.0\" viewBox=\"-100 -100 200.0 200.0\">\n",
       "<defs>\n",
       "<linearGradient x1=\"200.0\" y1=\"-0.0\" x2=\"199.99000008333306\" y2=\"1.9999666668333391\" gradientUnits=\"userSpaceOnUse\" id=\"VO0698Do0\">\n",
       "<stop offset=\"0\" stop-color=\"#FFB6C1\" />\n",
       "<stop offset=\"1\" stop-color=\"#FFD700\" />\n",
       "</linearGradient>\n",
       "</defs>\n",
       "<rect x=\"-100\" y=\"-100\" width=\"200.0\" height=\"200.0\" fill=\"#ffffff\" fill-opacity=\"1.0\" />\n",
       "<path d=\"M60.0,-0.0 A60,60,0,0,0,18.76912428977247,-56.9887705903108 L20.082962990056544,-60.97798453163256 A64.2,64.2,0,0,1,64.2,-0.0 Z\" fill=\"#FFB6C1\" fill-opacity=\"0.9\" />\n",
       "<path d=\"M18.19830763355626,-57.17360929025251 A60,60,0,1,0,59.99700002499991,0.5999900000500017 L64.19679002674991,0.6419893000535019 A64.2,64.2,0,1,1,19.4721891679052,-61.17576194057018 Z\" fill=\"#FFD700\" fill-opacity=\"0.9\" />\n",
       "<path d=\"M59.4,-0.0 A59.4,59.4,0,0,0,18.581433046874746,-56.418882884407694 C7.432573218749899,-22.56755315376308,7.206529822888278,-22.640749278939992,18.016324557220695,-56.60187319734998 A59.4,59.4,0,1,0,59.39703002474992,0.5939901000495017 C23.75881200989997,0.2375960400198007,23.76,-0.0,59.4,-0.0 Z\" fill=\"url(#VO0698Do0)\" fill-opacity=\"0.6\" />\n",
       "<text x=\"66.00000000000001\" y=\"0\" font-size=\"100\" text-anchor=\"start\" dominant-baseline=\"middle\" transform=\"rotate(-35.885408)\" font-family=\"Arial\">OpenChord</text>\n",
       "</svg>"
      ],
      "text/plain": [
       "<drawsvg.drawing.Drawing at 0x20e6a520ac0>"
      ]
     },
     "execution_count": 4,
     "metadata": {},
     "output_type": "execute_result"
    }
   ],
   "source": [
    "# set the size of the logo \n",
    "fig.radius = 60\n",
    "fig.padding = 40\n",
    "fig.font_size = 100\n",
    "fig.show()"
   ]
  },
  {
   "cell_type": "markdown",
   "id": "eb436554",
   "metadata": {},
   "source": [
    "#### Rotation <a class=\"anchor\" id=\"rotation\"></a>\n",
    "We can rotate the diagram by changing the `rotate` attribute in radiant unit. "
   ]
  },
  {
   "cell_type": "code",
   "execution_count": 5,
   "id": "b6e3417e",
   "metadata": {},
   "outputs": [
    {
     "data": {
      "image/svg+xml": [
       "<?xml version=\"1.0\" encoding=\"UTF-8\"?>\n",
       "<svg xmlns=\"http://www.w3.org/2000/svg\" xmlns:xlink=\"http://www.w3.org/1999/xlink\"\n",
       "     width=\"200.0\" height=\"200.0\" viewBox=\"-100 -100 200.0 200.0\">\n",
       "<defs>\n",
       "<linearGradient x1=\"48.61145676374217\" y1=\"35.16996262873798\" x2=\"48.25733244650243\" y2=\"35.654310611029125\" gradientUnits=\"userSpaceOnUse\" id=\"wVimFvuj0\">\n",
       "<stop offset=\"0\" stop-color=\"#FFB6C1\" />\n",
       "<stop offset=\"1\" stop-color=\"#FFD700\" />\n",
       "</linearGradient>\n",
       "</defs>\n",
       "<rect x=\"-100\" y=\"-100\" width=\"200.0\" height=\"200.0\" fill=\"#ffffff\" fill-opacity=\"1.0\" />\n",
       "<path d=\"M48.61145676374217,35.16996262873798 A60,60,0,0,0,48.61145676374217,-35.16996262873798 L52.01425873720412,-37.63186001274964 A64.2,64.2,0,0,1,52.01425873720412,37.63186001274964 Z\" fill=\"#FFB6C1\" fill-opacity=\"0.9\" />\n",
       "<path d=\"M48.25733244650244,-35.65431061102912 A60,60,0,1,0,48.25733244650243,35.654310611029125 L51.6353457177576,38.15011235380116 A64.2,64.2,0,1,1,51.63534571775761,-38.150112353801156 Z\" fill=\"#FFD700\" fill-opacity=\"0.9\" />\n",
       "<path d=\"M48.12534219610475,34.8182630024506 A59.4,59.4,0,0,0,48.12534219610475,-34.8182630024506 C19.2501368784419,-13.927305200980241,19.109903648814967,-14.11910700196753,47.774759122037416,-35.29776750491882 A59.4,59.4,0,1,0,47.7747591220374,35.29776750491884 C19.10990364881496,14.119107001967535,19.2501368784419,13.927305200980241,48.12534219610475,34.8182630024506 Z\" fill=\"url(#wVimFvuj0)\" fill-opacity=\"0.6\" />\n",
       "<text x=\"66.0\" y=\"0\" font-size=\"100\" text-anchor=\"start\" dominant-baseline=\"middle\" transform=\"rotate(-0.000000)\" font-family=\"Arial\">OpenChord</text>\n",
       "</svg>"
      ],
      "text/plain": [
       "<drawsvg.drawing.Drawing at 0x20e6a520b20>"
      ]
     },
     "execution_count": 5,
     "metadata": {},
     "output_type": "execute_result"
    }
   ],
   "source": [
    "fig.rotation = -0.5*fig.conversion_rate    # conversion_rate converts the weights to arc length\n",
    "fig.show()"
   ]
  },
  {
   "cell_type": "markdown",
   "id": "76e63a33",
   "metadata": {},
   "source": [
    "#### Custom plot area <a class=\"anchor\" id=\"custom_plot_area\"></a>\n",
    "We can specify a custom plot area by passing in a dictionary of the (x,y)-coordinates, width, and hight, notting that the center of the chord diagram is located at coordinate (0,0). Also note that changing the `radius` and `padding` will reset the plot area."
   ]
  },
  {
   "cell_type": "code",
   "execution_count": 6,
   "id": "6c2e68f9",
   "metadata": {},
   "outputs": [
    {
     "data": {
      "image/svg+xml": [
       "<?xml version=\"1.0\" encoding=\"UTF-8\"?>\n",
       "<svg xmlns=\"http://www.w3.org/2000/svg\" xmlns:xlink=\"http://www.w3.org/1999/xlink\"\n",
       "     width=\"720\" height=\"200\" viewBox=\"-100 -100 720 200\">\n",
       "<defs>\n",
       "<linearGradient x1=\"48.61145676374217\" y1=\"35.16996262873798\" x2=\"48.25733244650243\" y2=\"35.654310611029125\" gradientUnits=\"userSpaceOnUse\" id=\"UY3aLwaR0\">\n",
       "<stop offset=\"0\" stop-color=\"#FFB6C1\" />\n",
       "<stop offset=\"1\" stop-color=\"#FFD700\" />\n",
       "</linearGradient>\n",
       "</defs>\n",
       "<rect x=\"-100\" y=\"-100\" width=\"720\" height=\"200\" fill=\"#ffffff\" fill-opacity=\"1.0\" />\n",
       "<path d=\"M48.61145676374217,35.16996262873798 A60,60,0,0,0,48.61145676374217,-35.16996262873798 L52.01425873720412,-37.63186001274964 A64.2,64.2,0,0,1,52.01425873720412,37.63186001274964 Z\" fill=\"#FFB6C1\" fill-opacity=\"0.9\" />\n",
       "<path d=\"M48.25733244650244,-35.65431061102912 A60,60,0,1,0,48.25733244650243,35.654310611029125 L51.6353457177576,38.15011235380116 A64.2,64.2,0,1,1,51.63534571775761,-38.150112353801156 Z\" fill=\"#FFD700\" fill-opacity=\"0.9\" />\n",
       "<path d=\"M48.12534219610475,34.8182630024506 A59.4,59.4,0,0,0,48.12534219610475,-34.8182630024506 C19.2501368784419,-13.927305200980241,19.109903648814967,-14.11910700196753,47.774759122037416,-35.29776750491882 A59.4,59.4,0,1,0,47.7747591220374,35.29776750491884 C19.10990364881496,14.119107001967535,19.2501368784419,13.927305200980241,48.12534219610475,34.8182630024506 Z\" fill=\"url(#UY3aLwaR0)\" fill-opacity=\"0.6\" />\n",
       "<text x=\"66.0\" y=\"0\" font-size=\"100\" text-anchor=\"start\" dominant-baseline=\"middle\" transform=\"rotate(-0.000000)\" font-family=\"Arial\">OpenChord</text>\n",
       "</svg>"
      ],
      "text/plain": [
       "<drawsvg.drawing.Drawing at 0x20e6a533a60>"
      ]
     },
     "execution_count": 6,
     "metadata": {},
     "output_type": "execute_result"
    }
   ],
   "source": [
    "fig.plot_area = {\"x\": -100, \"y\": -100, \"w\": 720, \"h\": 200}\n",
    "fig.show()"
   ]
  },
  {
   "cell_type": "markdown",
   "id": "9d2c3b02",
   "metadata": {},
   "source": [
    "#### Gradient style <a class=\"anchor\" id=\"gradient_style\"></a>\n",
    "The `\"default\"` gradient style generate gradients based on the edges of the ribbons and works well in most cases. But it doesn't look really good with this particular chord diagram, so we will use the `\"midpoint\"` gradient style instead where the gradient is computed based on the mid point of the arc. "
   ]
  },
  {
   "cell_type": "code",
   "execution_count": 7,
   "id": "803e0b5a",
   "metadata": {},
   "outputs": [
    {
     "data": {
      "image/svg+xml": [
       "<?xml version=\"1.0\" encoding=\"UTF-8\"?>\n",
       "<svg xmlns=\"http://www.w3.org/2000/svg\" xmlns:xlink=\"http://www.w3.org/1999/xlink\"\n",
       "     width=\"720\" height=\"200\" viewBox=\"-100 -100 720 200\">\n",
       "<defs>\n",
       "<linearGradient x1=\"60.0\" y1=\"-0.0\" x2=\"-60.0\" y2=\"-7.34788079488412e-15\" gradientUnits=\"userSpaceOnUse\" id=\"qIHLMw8J0\">\n",
       "<stop offset=\"0\" stop-color=\"#FFB6C1\" />\n",
       "<stop offset=\"1\" stop-color=\"#FFD700\" />\n",
       "</linearGradient>\n",
       "</defs>\n",
       "<rect x=\"-100\" y=\"-100\" width=\"720\" height=\"200\" fill=\"#ffffff\" fill-opacity=\"1.0\" />\n",
       "<path d=\"M48.61145676374217,35.16996262873798 A60,60,0,0,0,48.61145676374217,-35.16996262873798 L52.01425873720412,-37.63186001274964 A64.2,64.2,0,0,1,52.01425873720412,37.63186001274964 Z\" fill=\"#FFB6C1\" fill-opacity=\"0.9\" />\n",
       "<path d=\"M48.25733244650244,-35.65431061102912 A60,60,0,1,0,48.25733244650243,35.654310611029125 L51.6353457177576,38.15011235380116 A64.2,64.2,0,1,1,51.63534571775761,-38.150112353801156 Z\" fill=\"#FFD700\" fill-opacity=\"0.9\" />\n",
       "<path d=\"M48.12534219610475,34.8182630024506 A59.4,59.4,0,0,0,48.12534219610475,-34.8182630024506 C19.2501368784419,-13.927305200980241,19.109903648814967,-14.11910700196753,47.774759122037416,-35.29776750491882 A59.4,59.4,0,1,0,47.7747591220374,35.29776750491884 C19.10990364881496,14.119107001967535,19.2501368784419,13.927305200980241,48.12534219610475,34.8182630024506 Z\" fill=\"url(#qIHLMw8J0)\" fill-opacity=\"0.6\" />\n",
       "<text x=\"66.0\" y=\"0\" font-size=\"100\" text-anchor=\"start\" dominant-baseline=\"middle\" transform=\"rotate(-0.000000)\" font-family=\"Arial\">OpenChord</text>\n",
       "</svg>"
      ],
      "text/plain": [
       "<drawsvg.drawing.Drawing at 0x20e6a5300a0>"
      ]
     },
     "execution_count": 7,
     "metadata": {},
     "output_type": "execute_result"
    }
   ],
   "source": [
    "fig.gradient_style = \"midpoint\"\n",
    "fig.show()"
   ]
  },
  {
   "cell_type": "markdown",
   "id": "e1d07e49",
   "metadata": {},
   "source": [
    "#### Arc thickness <a class=\"anchor\" id=\"arc_thickness\"></a>\n",
    "Arc thickness is specified as a proportion of the radius. Default thickness is 0.07."
   ]
  },
  {
   "cell_type": "code",
   "execution_count": 8,
   "id": "bad79535",
   "metadata": {},
   "outputs": [
    {
     "data": {
      "image/svg+xml": [
       "<?xml version=\"1.0\" encoding=\"UTF-8\"?>\n",
       "<svg xmlns=\"http://www.w3.org/2000/svg\" xmlns:xlink=\"http://www.w3.org/1999/xlink\"\n",
       "     width=\"720\" height=\"200\" viewBox=\"-100 -100 720 200\">\n",
       "<defs>\n",
       "<linearGradient x1=\"60.0\" y1=\"-0.0\" x2=\"-60.0\" y2=\"-7.34788079488412e-15\" gradientUnits=\"userSpaceOnUse\" id=\"j6nUY25B0\">\n",
       "<stop offset=\"0\" stop-color=\"#FFB6C1\" />\n",
       "<stop offset=\"1\" stop-color=\"#FFD700\" />\n",
       "</linearGradient>\n",
       "</defs>\n",
       "<rect x=\"-100\" y=\"-100\" width=\"720\" height=\"200\" fill=\"#ffffff\" fill-opacity=\"1.0\" />\n",
       "<path d=\"M48.61145676374217,35.16996262873798 A60,60,0,0,0,48.61145676374217,-35.16996262873798 L63.194893792864825,-45.72095141735937 A78.0,78.0,0,0,1,63.194893792864825,45.72095141735937 Z\" fill=\"#FFB6C1\" fill-opacity=\"0.9\" />\n",
       "<path d=\"M48.25733244650244,-35.65431061102912 A60,60,0,1,0,48.25733244650243,35.654310611029125 L62.734532180453165,46.350603794337864 A78.0,78.0,0,1,1,62.73453218045317,-46.35060379433786 Z\" fill=\"#FFD700\" fill-opacity=\"0.9\" />\n",
       "<path d=\"M48.12534219610475,34.8182630024506 A59.4,59.4,0,0,0,48.12534219610475,-34.8182630024506 C19.2501368784419,-13.927305200980241,19.109903648814967,-14.11910700196753,47.774759122037416,-35.29776750491882 A59.4,59.4,0,1,0,47.7747591220374,35.29776750491884 C19.10990364881496,14.119107001967535,19.2501368784419,13.927305200980241,48.12534219610475,34.8182630024506 Z\" fill=\"url(#j6nUY25B0)\" fill-opacity=\"0.6\" />\n",
       "<text x=\"66.0\" y=\"0\" font-size=\"100\" text-anchor=\"start\" dominant-baseline=\"middle\" transform=\"rotate(-0.000000)\" font-family=\"Arial\">OpenChord</text>\n",
       "</svg>"
      ],
      "text/plain": [
       "<drawsvg.drawing.Drawing at 0x20e6a533310>"
      ]
     },
     "execution_count": 8,
     "metadata": {},
     "output_type": "execute_result"
    }
   ],
   "source": [
    "fig.arc_thickness = 0.3\n",
    "fig.show()"
   ]
  },
  {
   "cell_type": "markdown",
   "id": "586811c7",
   "metadata": {},
   "source": [
    "#### Text position <a class=\"anchor\" id=\"text_position\"></a>\n",
    "Similar to the `arc_thickness` attribute, the text position is specified as a proportion of the radius. Default value is 0.1."
   ]
  },
  {
   "cell_type": "code",
   "execution_count": 9,
   "id": "38ae9103",
   "metadata": {},
   "outputs": [
    {
     "data": {
      "image/svg+xml": [
       "<?xml version=\"1.0\" encoding=\"UTF-8\"?>\n",
       "<svg xmlns=\"http://www.w3.org/2000/svg\" xmlns:xlink=\"http://www.w3.org/1999/xlink\"\n",
       "     width=\"720\" height=\"200\" viewBox=\"-100 -100 720 200\">\n",
       "<defs>\n",
       "<linearGradient x1=\"60.0\" y1=\"-0.0\" x2=\"-60.0\" y2=\"-7.34788079488412e-15\" gradientUnits=\"userSpaceOnUse\" id=\"AbZhMJQz0\">\n",
       "<stop offset=\"0\" stop-color=\"#FFB6C1\" />\n",
       "<stop offset=\"1\" stop-color=\"#FFD700\" />\n",
       "</linearGradient>\n",
       "</defs>\n",
       "<rect x=\"-100\" y=\"-100\" width=\"720\" height=\"200\" fill=\"#ffffff\" fill-opacity=\"1.0\" />\n",
       "<path d=\"M48.61145676374217,35.16996262873798 A60,60,0,0,0,48.61145676374217,-35.16996262873798 L63.194893792864825,-45.72095141735937 A78.0,78.0,0,0,1,63.194893792864825,45.72095141735937 Z\" fill=\"#FFB6C1\" fill-opacity=\"0.9\" />\n",
       "<path d=\"M48.25733244650244,-35.65431061102912 A60,60,0,1,0,48.25733244650243,35.654310611029125 L62.734532180453165,46.350603794337864 A78.0,78.0,0,1,1,62.73453218045317,-46.35060379433786 Z\" fill=\"#FFD700\" fill-opacity=\"0.9\" />\n",
       "<path d=\"M48.12534219610475,34.8182630024506 A59.4,59.4,0,0,0,48.12534219610475,-34.8182630024506 C19.2501368784419,-13.927305200980241,19.109903648814967,-14.11910700196753,47.774759122037416,-35.29776750491882 A59.4,59.4,0,1,0,47.7747591220374,35.29776750491884 C19.10990364881496,14.119107001967535,19.2501368784419,13.927305200980241,48.12534219610475,34.8182630024506 Z\" fill=\"url(#AbZhMJQz0)\" fill-opacity=\"0.6\" />\n",
       "<text x=\"84.0\" y=\"0\" font-size=\"100\" text-anchor=\"start\" dominant-baseline=\"middle\" transform=\"rotate(-0.000000)\" font-family=\"Arial\">OpenChord</text>\n",
       "</svg>"
      ],
      "text/plain": [
       "<drawsvg.drawing.Drawing at 0x20e6a533550>"
      ]
     },
     "execution_count": 9,
     "metadata": {},
     "output_type": "execute_result"
    }
   ],
   "source": [
    "fig.text_position = 0.4\n",
    "fig.show()"
   ]
  },
  {
   "cell_type": "markdown",
   "id": "a424ec84",
   "metadata": {},
   "source": [
    "#### Gap size <a class=\"anchor\" id=\"gap_size\"></a>\n",
    "The `gap_size` attribute controls the gaps between the arcs. The default value is 0.01 radian."
   ]
  },
  {
   "cell_type": "code",
   "execution_count": 10,
   "id": "28d6fae3",
   "metadata": {},
   "outputs": [
    {
     "data": {
      "image/svg+xml": [
       "<?xml version=\"1.0\" encoding=\"UTF-8\"?>\n",
       "<svg xmlns=\"http://www.w3.org/2000/svg\" xmlns:xlink=\"http://www.w3.org/1999/xlink\"\n",
       "     width=\"720\" height=\"200\" viewBox=\"-100 -100 720 200\">\n",
       "<defs>\n",
       "<linearGradient x1=\"59.99028026243717\" y1=\"1.0799416809447777\" x2=\"-59.99028026243717\" y2=\"-1.0799416809447717\" gradientUnits=\"userSpaceOnUse\" id=\"Lr9epWNM0\">\n",
       "<stop offset=\"0\" stop-color=\"#FFB6C1\" />\n",
       "<stop offset=\"1\" stop-color=\"#FFD700\" />\n",
       "</linearGradient>\n",
       "</defs>\n",
       "<rect x=\"-100\" y=\"-100\" width=\"720\" height=\"200\" fill=\"#ffffff\" fill-opacity=\"1.0\" />\n",
       "<path d=\"M48.61145676374217,35.16996262873798 A60,60,0,0,0,49.84580513236272,-33.39754048888215 L64.79954667207154,-43.416802635546794 A78.0,78.0,0,0,1,63.194893792864825,45.72095141735937 Z\" fill=\"#FFB6C1\" fill-opacity=\"0.9\" />\n",
       "<path d=\"M46.26259315373182,-38.20696892835502 A60,60,0,1,0,44.857464427587935,39.84730712517074 L58.314703755864315,51.80149926272196 A78.0,78.0,0,1,1,60.14137109985137,-49.66905960686152 Z\" fill=\"#FFD700\" fill-opacity=\"0.9\" />\n",
       "<path d=\"M48.12534219610475,34.8182630024506 A59.4,59.4,0,0,0,49.34734708103909,-33.063565083993325 C19.738938832415638,-13.22542603359733,18.319986888877803,-15.129959695628589,45.7999672221945,-37.82489923907147 A59.4,59.4,0,1,0,44.408889783312055,39.44883405391903 C17.763555913324822,15.779533621567612,19.2501368784419,13.927305200980241,48.12534219610475,34.8182630024506 Z\" fill=\"url(#Lr9epWNM0)\" fill-opacity=\"0.6\" />\n",
       "<text x=\"84.0\" y=\"0\" font-size=\"100\" text-anchor=\"start\" dominant-baseline=\"middle\" transform=\"rotate(1.031324)\" font-family=\"Arial\">OpenChord</text>\n",
       "</svg>"
      ],
      "text/plain": [
       "<drawsvg.drawing.Drawing at 0x20e6a5324d0>"
      ]
     },
     "execution_count": 10,
     "metadata": {},
     "output_type": "execute_result"
    }
   ],
   "source": [
    "fig.gap_size = 0.1\n",
    "fig.show()"
   ]
  },
  {
   "cell_type": "markdown",
   "id": "2e3fb91f",
   "metadata": {},
   "source": [
    "#### Ribbon gap <a class=\"anchor\" id=\"ribbon_gap\"></a>\n",
    "The ribbon gap is also specified as a proportion of the radius. Default thickness is 0.01."
   ]
  },
  {
   "cell_type": "code",
   "execution_count": 11,
   "id": "e3ecef68",
   "metadata": {},
   "outputs": [
    {
     "data": {
      "image/svg+xml": [
       "<?xml version=\"1.0\" encoding=\"UTF-8\"?>\n",
       "<svg xmlns=\"http://www.w3.org/2000/svg\" xmlns:xlink=\"http://www.w3.org/1999/xlink\"\n",
       "     width=\"720\" height=\"200\" viewBox=\"-100 -100 720 200\">\n",
       "<defs>\n",
       "<linearGradient x1=\"59.99028026243717\" y1=\"1.0799416809447777\" x2=\"-59.99028026243717\" y2=\"-1.0799416809447717\" gradientUnits=\"userSpaceOnUse\" id=\"IqrZD3ZD0\">\n",
       "<stop offset=\"0\" stop-color=\"#FFB6C1\" />\n",
       "<stop offset=\"1\" stop-color=\"#FFD700\" />\n",
       "</linearGradient>\n",
       "</defs>\n",
       "<rect x=\"-100\" y=\"-100\" width=\"720\" height=\"200\" fill=\"#ffffff\" fill-opacity=\"1.0\" />\n",
       "<path d=\"M48.61145676374217,35.16996262873798 A60,60,0,0,0,49.84580513236272,-33.39754048888215 L64.79954667207154,-43.416802635546794 A78.0,78.0,0,0,1,63.194893792864825,45.72095141735937 Z\" fill=\"#FFB6C1\" fill-opacity=\"0.9\" />\n",
       "<path d=\"M46.26259315373182,-38.20696892835502 A60,60,0,1,0,44.857464427587935,39.84730712517074 L58.314703755864315,51.80149926272196 A78.0,78.0,0,1,1,60.14137109985137,-49.66905960686152 Z\" fill=\"#FFD700\" fill-opacity=\"0.9\" />\n",
       "<path d=\"M46.66699849319248,33.76316412358845 A57.599999999999994,57.599999999999994,0,0,0,47.8519729270682,-32.06163886932686 C19.140789170827283,-12.824655547730746,17.764835771033017,-14.671476068488326,44.41208942758254,-36.678690171220815 A57.599999999999994,57.599999999999994,0,1,0,43.06316585048442,38.253414840163906 C17.225266340193766,15.301365936065563,18.666799397276993,13.505265649435382,46.66699849319248,33.76316412358845 Z\" fill=\"url(#IqrZD3ZD0)\" fill-opacity=\"0.6\" />\n",
       "<text x=\"84.0\" y=\"0\" font-size=\"100\" text-anchor=\"start\" dominant-baseline=\"middle\" transform=\"rotate(1.031324)\" font-family=\"Arial\">OpenChord</text>\n",
       "</svg>"
      ],
      "text/plain": [
       "<drawsvg.drawing.Drawing at 0x20e6a533130>"
      ]
     },
     "execution_count": 11,
     "metadata": {},
     "output_type": "execute_result"
    }
   ],
   "source": [
    "fig.ribbon_gap = 0.04\n",
    "fig.show()"
   ]
  },
  {
   "cell_type": "markdown",
   "id": "20c2efab",
   "metadata": {},
   "source": [
    "#### Ribbon stiffness <a class=\"anchor\" id=\"ribbon_stiffness\"></a>\n",
    "The default value for the ribbon stiffness is 0.6."
   ]
  },
  {
   "cell_type": "code",
   "execution_count": 12,
   "id": "05832dea",
   "metadata": {},
   "outputs": [
    {
     "data": {
      "image/svg+xml": [
       "<?xml version=\"1.0\" encoding=\"UTF-8\"?>\n",
       "<svg xmlns=\"http://www.w3.org/2000/svg\" xmlns:xlink=\"http://www.w3.org/1999/xlink\"\n",
       "     width=\"720\" height=\"200\" viewBox=\"-100 -100 720 200\">\n",
       "<defs>\n",
       "<linearGradient x1=\"59.99028026243717\" y1=\"1.0799416809447777\" x2=\"-59.99028026243717\" y2=\"-1.0799416809447717\" gradientUnits=\"userSpaceOnUse\" id=\"PXBA0fo90\">\n",
       "<stop offset=\"0\" stop-color=\"#FFB6C1\" />\n",
       "<stop offset=\"1\" stop-color=\"#FFD700\" />\n",
       "</linearGradient>\n",
       "</defs>\n",
       "<rect x=\"-100\" y=\"-100\" width=\"720\" height=\"200\" fill=\"#ffffff\" fill-opacity=\"1.0\" />\n",
       "<path d=\"M48.61145676374217,35.16996262873798 A60,60,0,0,0,49.84580513236272,-33.39754048888215 L64.79954667207154,-43.416802635546794 A78.0,78.0,0,0,1,63.194893792864825,45.72095141735937 Z\" fill=\"#FFB6C1\" fill-opacity=\"0.9\" />\n",
       "<path d=\"M46.26259315373182,-38.20696892835502 A60,60,0,1,0,44.857464427587935,39.84730712517074 L58.314703755864315,51.80149926272196 A78.0,78.0,0,1,1,60.14137109985137,-49.66905960686152 Z\" fill=\"#FFD700\" fill-opacity=\"0.9\" />\n",
       "<path d=\"M46.66699849319248,33.76316412358845 A57.599999999999994,57.599999999999994,0,0,0,47.8519729270682,-32.06163886932686 C33.49638104894774,-22.443147208528803,31.08846259930778,-25.67508311985457,44.41208942758254,-36.678690171220815 A57.599999999999994,57.599999999999994,0,1,0,43.06316585048442,38.253414840163906 C30.14421609533909,26.777390388114732,32.666898945234735,23.634214886511916,46.66699849319248,33.76316412358845 Z\" fill=\"url(#PXBA0fo90)\" fill-opacity=\"0.6\" />\n",
       "<text x=\"84.0\" y=\"0\" font-size=\"100\" text-anchor=\"start\" dominant-baseline=\"middle\" transform=\"rotate(1.031324)\" font-family=\"Arial\">OpenChord</text>\n",
       "</svg>"
      ],
      "text/plain": [
       "<drawsvg.drawing.Drawing at 0x20e6a51efe0>"
      ]
     },
     "execution_count": 12,
     "metadata": {},
     "output_type": "execute_result"
    }
   ],
   "source": [
    "fig.ribbon_stiffness = 0.3\n",
    "fig.show()"
   ]
  },
  {
   "cell_type": "markdown",
   "id": "0e6cf66e",
   "metadata": {},
   "source": [
    "#### Save as SVG <a class=\"anchor\" id=\"save_as_svg\"></a>\n",
    "Finally, we can save the generated drawing as an SVG file. "
   ]
  },
  {
   "cell_type": "code",
   "execution_count": 13,
   "id": "ffa61da3",
   "metadata": {},
   "outputs": [],
   "source": [
    "# fig.save_svg(\"logo.svg\")"
   ]
  }
 ],
 "metadata": {
  "kernelspec": {
   "display_name": "Python 3 (ipykernel)",
   "language": "python",
   "name": "python3"
  },
  "language_info": {
   "codemirror_mode": {
    "name": "ipython",
    "version": 3
   },
   "file_extension": ".py",
   "mimetype": "text/x-python",
   "name": "python",
   "nbconvert_exporter": "python",
   "pygments_lexer": "ipython3",
   "version": "3.10.6"
  }
 },
 "nbformat": 4,
 "nbformat_minor": 5
}
